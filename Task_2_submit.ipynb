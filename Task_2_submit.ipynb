{
 "cells": [
  {
   "cell_type": "markdown",
   "metadata": {},
   "source": [
    "## Predict the orbit of James Webb space telescope with a quantum algorithm - Herman Kolden\n",
    "### Task 2: Make a quantum circuit to prepare the input state\n",
    "\n",
    "Team members:\n",
    "* Felix Cahyadi\n",
    "* Luis Reyna\n",
    "* Mohammed Amlieh\n",
    "* Göksun Beren Usta\n",
    "* Abhipsa Acharya\n",
    "* Akshat Srivastava\n",
    "\n",
    "General idea: To prepare the input states, first we apply Hadamard gate to the qubits to get an equal superposition state. We represent the coordinates of each satellite with two amplitudes and we set them to the desired state by using rotation. We use X gates between U gates to change the states U gate is applied to so that it is not applied more than once to the same state."
   ]
  },
  {
   "cell_type": "markdown",
   "metadata": {},
   "source": [
    "### Import Libraries"
   ]
  },
  {
   "cell_type": "code",
   "execution_count": 2,
   "metadata": {},
   "outputs": [],
   "source": [
    "import numpy as np\n",
    "import math\n",
    "from qiskit import *\n",
    "from qiskit.circuit.gate import Gate\n",
    "import qiskit.quantum_info as qi\n",
    "from qiskit.visualization import plot_histogram\n",
    "from qiskit.circuit.library.standard_gates import U3Gate"
   ]
  },
  {
   "cell_type": "markdown",
   "metadata": {},
   "source": [
    "### Functions"
   ]
  },
  {
   "cell_type": "code",
   "execution_count": 3,
   "metadata": {},
   "outputs": [],
   "source": [
    "# Function that does the normalization of the coordinates\n",
    "def unit_vector(coordinates):\n",
    "    '''\n",
    "    coordinates: list of coordinates without normalization\n",
    "    returns: list of coordinates with normalization\n",
    "    '''\n",
    "    constant = np.linalg.norm(np.array(coordinates))\n",
    "    \n",
    "    for i in range(len(coordinates)):\n",
    "        coordinates[i]=(1/constant)*coordinates[i]\n",
    "        \n",
    "    return coordinates\n",
    "\n",
    "# Function that sets random coordinates for n satellites\n",
    "def n_coordinates(n):\n",
    "    '''\n",
    "    n: number of satellites\n",
    "    returns: list of coordinates\n",
    "    '''\n",
    "    coordinates = []\n",
    "    \n",
    "    for i in range(n):\n",
    "        x_1 = ((-1)**(np.random.randint(1,3)))*np.random.rand()\n",
    "        y_1 = ((-1)**(np.random.randint(1,3)))*(np.sqrt(1-x_1**2))\n",
    "        coordinates.append(x_1)\n",
    "        coordinates.append(y_1)\n",
    "        \n",
    "    return coordinates\n",
    "\n",
    "# Function that sets the angles of coordinates\n",
    "def n_angles(coord):\n",
    "    '''\n",
    "    coord: list of coordinates\n",
    "    returns: list of angles\n",
    "    '''\n",
    "    angles = []\n",
    "    \n",
    "    for i in range(int(len(coord)/2)):\n",
    "        theta = (np.arctan2(coord[2*i+1],coord[2*i])-(np.pi/4))*2\n",
    "        angles.append(theta)\n",
    "    \n",
    "    return angles "
   ]
  },
  {
   "cell_type": "markdown",
   "metadata": {},
   "source": [
    "### Setting Coordinates and Corresponding Angles\n",
    "We will set coordinates and angles for two different cases which are when we have 1 satellite and when we have 8 satellites so that we can see how the circuit develops."
   ]
  },
  {
   "cell_type": "code",
   "execution_count": 16,
   "metadata": {},
   "outputs": [
    {
     "name": "stdout",
     "output_type": "stream",
     "text": [
      "The coordinates are:  [0.5889275152627096, -0.8081858584301578]\n",
      "The angles are:  [-1.8821303120022823]\n"
     ]
    }
   ],
   "source": [
    "# Setting coordinates and angles for 1 satellite by calling related functions we defined above\n",
    "coordinates1 = n_coordinates(1)\n",
    "angles1 = [(np.arctan2(coordinates1[1],coordinates1[0]))*2]\n",
    "\n",
    "print(\"The coordinates are: \",coordinates1)\n",
    "print(\"The angles are: \", angles1)"
   ]
  },
  {
   "cell_type": "code",
   "execution_count": 5,
   "metadata": {},
   "outputs": [
    {
     "name": "stdout",
     "output_type": "stream",
     "text": [
      "The coordinates are:  [-0.6408712206201064, 0.767648408179744, -0.5202407632399697, -0.8540196416145789, -0.6620027782842497, -0.7495013819493161, 0.32499683793056633, -0.9457151026261202, -0.6286510691761408, 0.7776874907208519, 0.5651122886276367, -0.8250140006339496, -0.11337306750386877, -0.9935524885806302, 0.6500720853049191, -0.7598725445147455]\n",
      "The angles are:  [2.9620616270627087, -5.806654668746427, -6.159364511611946, -4.050372211360068, 2.9304312307394094, -3.51125027567513, -4.9396236917638925, -3.2970303846426123]\n"
     ]
    }
   ],
   "source": [
    "# Setting coordinates and angles for 8 satellites by calling related functions we defined above\n",
    "coordinates = n_coordinates(8)\n",
    "angles = n_angles(coordinates)\n",
    "\n",
    "print(\"The coordinates are: \",coordinates)\n",
    "print(\"The angles are: \", angles)"
   ]
  },
  {
   "cell_type": "markdown",
   "metadata": {},
   "source": [
    "### Construct the Circuit"
   ]
  },
  {
   "cell_type": "markdown",
   "metadata": {},
   "source": [
    "#### Circuit for 1 satellite\n",
    "When we have one satellite, we have two coordinates. Therefore, we will need 1 qubit and use its amplitudes to represent those coordinates."
   ]
  },
  {
   "cell_type": "code",
   "execution_count": 18,
   "metadata": {},
   "outputs": [
    {
     "name": "stdout",
     "output_type": "stream",
     "text": [
      "[[ 0.58892752  0.80818586]\n",
      " [-0.80818586  0.58892752]]\n"
     ]
    }
   ],
   "source": [
    "# Create registers for 1 qubit\n",
    "q_reg1 = QuantumRegister(1)\n",
    "c_reg1 = ClassicalRegister(1)\n",
    "circuit1 = QuantumCircuit(q_reg1,c_reg1)\n",
    "# Apply U gate to rotate the qubit\n",
    "circuit1.u(angles1[0],0,0,0)\n",
    "#circuit.x(q_reg[1])\n",
    "\n",
    "op1 = qi.Operator(circuit1)\n",
    "print(np.real(op1.data))"
   ]
  },
  {
   "cell_type": "code",
   "execution_count": 20,
   "metadata": {},
   "outputs": [
    {
     "name": "stdout",
     "output_type": "stream",
     "text": [
      "Expected:  [ 0.58892752 -0.80818586]\n",
      "State that's generated:  [ 0.58892752 -0.80818586]\n"
     ]
    }
   ],
   "source": [
    "unit_v1 = unit_vector(coordinates1)\n",
    "backend = Aer.get_backend('statevector_simulator')\n",
    "output1 = np.real(qi.Statevector.from_instruction(circuit1).data)\n",
    "\n",
    "print(\"Expected: \", np.round(unit_v1,8))\n",
    "print(\"State that's generated: \",output1)"
   ]
  },
  {
   "cell_type": "markdown",
   "metadata": {},
   "source": [
    "#### Circuit for 8 satellites\n",
    "When we have eight satellites, we have sixteen coordinates. Therefore, we will need 4 qubits and use their amplitudes to represent those coordinates."
   ]
  },
  {
   "cell_type": "code",
   "execution_count": 8,
   "metadata": {},
   "outputs": [
    {
     "data": {
      "text/plain": [
       "array([[-0.22658219,  0.2714047 ,  0.22658219, -0.2714047 ,  0.22658219,\n",
       "        -0.2714047 , -0.22658219,  0.2714047 ,  0.22658219, -0.2714047 ,\n",
       "        -0.22658219,  0.2714047 , -0.22658219,  0.2714047 ,  0.22658219,\n",
       "        -0.2714047 ],\n",
       "       [ 0.2714047 ,  0.22658219, -0.2714047 , -0.22658219, -0.2714047 ,\n",
       "        -0.22658219,  0.2714047 ,  0.22658219, -0.2714047 , -0.22658219,\n",
       "         0.2714047 ,  0.22658219,  0.2714047 ,  0.22658219, -0.2714047 ,\n",
       "        -0.22658219],\n",
       "       [-0.18393289, -0.30194154, -0.18393289, -0.30194154,  0.18393289,\n",
       "         0.30194154,  0.18393289,  0.30194154,  0.18393289,  0.30194154,\n",
       "         0.18393289,  0.30194154, -0.18393289, -0.30194154, -0.18393289,\n",
       "        -0.30194154],\n",
       "       [-0.30194154,  0.18393289, -0.30194154,  0.18393289,  0.30194154,\n",
       "        -0.18393289,  0.30194154, -0.18393289,  0.30194154, -0.18393289,\n",
       "         0.30194154, -0.18393289, -0.30194154,  0.18393289, -0.30194154,\n",
       "         0.18393289],\n",
       "       [-0.23405333, -0.26498875,  0.23405333,  0.26498875, -0.23405333,\n",
       "        -0.26498875,  0.23405333,  0.26498875,  0.23405333,  0.26498875,\n",
       "        -0.23405333, -0.26498875,  0.23405333,  0.26498875, -0.23405333,\n",
       "        -0.26498875],\n",
       "       [-0.26498875,  0.23405333,  0.26498875, -0.23405333, -0.26498875,\n",
       "         0.23405333,  0.26498875, -0.23405333,  0.26498875, -0.23405333,\n",
       "        -0.26498875,  0.23405333,  0.26498875, -0.23405333, -0.26498875,\n",
       "         0.23405333],\n",
       "       [ 0.11490373, -0.33436078,  0.11490373, -0.33436078,  0.11490373,\n",
       "        -0.33436078,  0.11490373, -0.33436078, -0.11490373,  0.33436078,\n",
       "        -0.11490373,  0.33436078, -0.11490373,  0.33436078, -0.11490373,\n",
       "         0.33436078],\n",
       "       [-0.33436078, -0.11490373, -0.33436078, -0.11490373, -0.33436078,\n",
       "        -0.11490373, -0.33436078, -0.11490373,  0.33436078,  0.11490373,\n",
       "         0.33436078,  0.11490373,  0.33436078,  0.11490373,  0.33436078,\n",
       "         0.11490373],\n",
       "       [-0.22226172,  0.27495405,  0.22226172, -0.27495405,  0.22226172,\n",
       "        -0.27495405, -0.22226172,  0.27495405, -0.22226172,  0.27495405,\n",
       "         0.22226172, -0.27495405,  0.22226172, -0.27495405, -0.22226172,\n",
       "         0.27495405],\n",
       "       [ 0.27495405,  0.22226172, -0.27495405, -0.22226172, -0.27495405,\n",
       "        -0.22226172,  0.27495405,  0.22226172,  0.27495405,  0.22226172,\n",
       "        -0.27495405, -0.22226172, -0.27495405, -0.22226172,  0.27495405,\n",
       "         0.22226172],\n",
       "       [ 0.19979737, -0.2916865 ,  0.19979737, -0.2916865 , -0.19979737,\n",
       "         0.2916865 , -0.19979737,  0.2916865 ,  0.19979737, -0.2916865 ,\n",
       "         0.19979737, -0.2916865 , -0.19979737,  0.2916865 , -0.19979737,\n",
       "         0.2916865 ],\n",
       "       [-0.2916865 , -0.19979737, -0.2916865 , -0.19979737,  0.2916865 ,\n",
       "         0.19979737,  0.2916865 ,  0.19979737, -0.2916865 , -0.19979737,\n",
       "        -0.2916865 , -0.19979737,  0.2916865 ,  0.19979737,  0.2916865 ,\n",
       "         0.19979737],\n",
       "       [-0.04008343, -0.35127385,  0.04008343,  0.35127385, -0.04008343,\n",
       "        -0.35127385,  0.04008343,  0.35127385, -0.04008343, -0.35127385,\n",
       "         0.04008343,  0.35127385, -0.04008343, -0.35127385,  0.04008343,\n",
       "         0.35127385],\n",
       "       [-0.35127385,  0.04008343,  0.35127385, -0.04008343, -0.35127385,\n",
       "         0.04008343,  0.35127385, -0.04008343, -0.35127385,  0.04008343,\n",
       "         0.35127385, -0.04008343, -0.35127385,  0.04008343,  0.35127385,\n",
       "        -0.04008343],\n",
       "       [ 0.22983519, -0.26865551,  0.22983519, -0.26865551,  0.22983519,\n",
       "        -0.26865551,  0.22983519, -0.26865551,  0.22983519, -0.26865551,\n",
       "         0.22983519, -0.26865551,  0.22983519, -0.26865551,  0.22983519,\n",
       "        -0.26865551],\n",
       "       [-0.26865551, -0.22983519, -0.26865551, -0.22983519, -0.26865551,\n",
       "        -0.22983519, -0.26865551, -0.22983519, -0.26865551, -0.22983519,\n",
       "        -0.26865551, -0.22983519, -0.26865551, -0.22983519, -0.26865551,\n",
       "        -0.22983519]])"
      ]
     },
     "execution_count": 8,
     "metadata": {},
     "output_type": "execute_result"
    }
   ],
   "source": [
    "# Create controlled-U gates that will rotate the qubits by angle theta\n",
    "CCU_ = [U3Gate(theta,0,0).control(3) for theta in angles]\n",
    "\n",
    "# Create registers for 4 qubits\n",
    "q_reg = QuantumRegister(4)\n",
    "c_reg = ClassicalRegister(4)\n",
    "circuit = QuantumCircuit(q_reg,c_reg)\n",
    "\n",
    "# Apply Hadamard to get the qubits in an equal superposition state\n",
    "circuit.h(q_reg)\n",
    "# Controlled U gate generated using x_1 and y_1\n",
    "circuit.append(CCU_[0],[q_reg[3],q_reg[2],q_reg[1],q_reg[0]])\n",
    "# We apply X gate so that we can apply U gate to different amplitudes\n",
    "circuit.x(q_reg[1])\n",
    "# Controlled U gate generated using x_2 and y_2\n",
    "circuit.append(CCU_[1],[q_reg[3],q_reg[2],q_reg[1],q_reg[0]])\n",
    "circuit.x(q_reg[2])\n",
    "circuit.x(q_reg[1])\n",
    "# Controlled U gate generated using x_3 and y_3\n",
    "circuit.append(CCU_[2],[q_reg[3],q_reg[2],q_reg[1],q_reg[0]])\n",
    "circuit.x(q_reg[1])\n",
    "# Controlled U gate generated using x_4 and y_4\n",
    "circuit.append(CCU_[3],[q_reg[3],q_reg[2],q_reg[1],q_reg[0]])\n",
    "circuit.x(q_reg[1])\n",
    "circuit.x(q_reg[2])\n",
    "circuit.x(q_reg[3])\n",
    "# Controlled U gate generated using x_5 and y_5\n",
    "circuit.append(CCU_[4],[q_reg[3],q_reg[2],q_reg[1],q_reg[0]])\n",
    "circuit.x(q_reg[1])\n",
    "# Controlled U gate generated using x_6 and y_6\n",
    "circuit.append(CCU_[5],[q_reg[3],q_reg[2],q_reg[1],q_reg[0]])\n",
    "circuit.x(q_reg[1])\n",
    "circuit.x(q_reg[2])\n",
    "# Controlled U gate generated using x_7 and y_7\n",
    "circuit.append(CCU_[6],[q_reg[3],q_reg[2],q_reg[1],q_reg[0]])\n",
    "circuit.x(q_reg[1])\n",
    "# Controlled U gate generated using x_8 and y_8\n",
    "circuit.append(CCU_[7],[q_reg[3],q_reg[2],q_reg[1],q_reg[0]])\n",
    "\n",
    "op = qi.Operator(circuit)\n",
    "np.real(op.data)"
   ]
  },
  {
   "cell_type": "markdown",
   "metadata": {},
   "source": [
    "### Comparing the Expected Outputs and the Outputs of the Circuit"
   ]
  },
  {
   "cell_type": "code",
   "execution_count": 9,
   "metadata": {},
   "outputs": [
    {
     "name": "stdout",
     "output_type": "stream",
     "text": [
      "Expected:  [-0.22658219  0.2714047  -0.18393289 -0.30194154 -0.23405333 -0.26498875\n",
      "  0.11490373 -0.33436078 -0.22226172  0.27495405  0.19979737 -0.2916865\n",
      " -0.04008343 -0.35127385  0.22983519 -0.26865551]\n",
      " \n",
      " \n",
      "Output:  [-0.22658219  0.2714047  -0.18393289 -0.30194154 -0.23405333 -0.26498875\n",
      "  0.11490373 -0.33436078 -0.22226172  0.27495405  0.19979737 -0.2916865\n",
      " -0.04008343 -0.35127385  0.22983519 -0.26865551]\n",
      " \n"
     ]
    }
   ],
   "source": [
    "unit_v = np.round(unit_vector(coordinates),8)\n",
    "# Use the statevector_simulator as our backend\n",
    "backend = Aer.get_backend('statevector_simulator')\n",
    "# Get the real part of the amplitudes\n",
    "output = np.real(qi.Statevector.from_instruction(circuit).data)\n",
    "\n",
    "print(\"Expected: \",unit_v)\n",
    "print(\" \")\n",
    "print(\" \")\n",
    "print(\"Output: \",output)\n",
    "print(\" \")"
   ]
  },
  {
   "cell_type": "markdown",
   "metadata": {},
   "source": [
    "### Visualizing the Circuit"
   ]
  },
  {
   "cell_type": "code",
   "execution_count": 10,
   "metadata": {},
   "outputs": [
    {
     "data": {
      "image/png": "[encoded data removed]",
      "text/plain": [
       "<Figure size 1604.72x325.08 with 1 Axes>"
      ]
     },
     "execution_count": 10,
     "metadata": {},
     "output_type": "execute_result"
    }
   ],
   "source": [
    "circuit.measure(q_reg,c_reg)\n",
    "circuit.draw(output=\"mpl\")"
   ]
  },
  {
   "cell_type": "markdown",
   "metadata": {},
   "source": [
    "### Remarks:\n",
    "\n",
    "$N = \\text{Number of qubits}$\n",
    "\n",
    "$n = \\text{Number of bodies}$\n",
    "\n",
    "1. #### number of qubits = number of $H$ gates\n",
    "2. #### number of satellites = number of $U$ gates\n",
    "3. #### number of qubits increases if $2n$ > $2^N$\n",
    "4. #### number of $X$ gates between each $U$ gate is limited to the number of qubits\n"
   ]
  },
  {
   "cell_type": "markdown",
   "metadata": {},
   "source": [
    "### Simulation Result"
   ]
  },
  {
   "cell_type": "code",
   "execution_count": 11,
   "metadata": {},
   "outputs": [
    {
     "name": "stdout",
     "output_type": "stream",
     "text": [
      "{'1011': 8438, '0001': 7463, '1001': 7612, '1000': 4917, '0000': 5139, '0011': 9063, '1101': 12254, '1110': 5350, '0101': 6994, '0010': 3433, '0111': 11251, '0100': 5448, '1111': 7178, '0110': 1381, '1010': 3927, '1100': 152}\n"
     ]
    },
    {
     "data": {
      "image/png": "[encoded data removed]",
      "text/plain": [
       "<Figure size 504x360 with 1 Axes>"
      ]
     },
     "execution_count": 11,
     "metadata": {},
     "output_type": "execute_result"
    }
   ],
   "source": [
    "# Use the statevector_simulator as our backend\n",
    "backend = Aer.get_backend('statevector_simulator')\n",
    "# Execute the circuit for 100000 times\n",
    "job = execute(circuit, backend=backend, shots=100000, memory=True)\n",
    "job_result = job.result()\n",
    "# Get the histogram data of the experiment\n",
    "counts = job_result.get_counts(circuit)\n",
    "\n",
    "print(counts)\n",
    "plot_histogram(counts)"
   ]
  },
  {
   "cell_type": "markdown",
   "metadata": {},
   "source": [
    "### Pseudocode for $n$ Satellites"
   ]
  },
  {
   "cell_type": "code",
   "execution_count": null,
   "metadata": {},
   "outputs": [],
   "source": [
    "\"\"\"\n",
    "This program builds a circuit that prepares quantum states.\n",
    "It is assumed the number of qubits, n, is greater than 1.\n",
    "The first three functions are given above, they are included\n",
    "here to present all the functions that would be used to create a\n",
    "program that generates a general circuit.\n",
    "\n",
    "############## Given above #################\n",
    "def unit_vector(coordinates):\n",
    "    \n",
    "    Normalizes the classical state\n",
    "\n",
    "    return coordinates as unit vector\n",
    "\n",
    "def n_coordinates(n):\n",
    "    \n",
    "    Generates a random set of coordinates\n",
    "        \n",
    "    return list of coordinates\n",
    "\n",
    "def n_angles(list of coordinates):\n",
    "    \n",
    "    Uses the set of coordinates to\n",
    "    generate n angles\n",
    "    \n",
    "    return list of angles \n",
    "    \n",
    "##############################################\n",
    "\n",
    "function4(n):\n",
    "\n",
    "    Creates all the controlled U gates\n",
    "    using U3Gate(theta,phi,psi), only theta is nonzero\n",
    "    \n",
    "    return list of gates\n",
    "\n",
    "function5(n):\n",
    "\n",
    "    Creates a circuit with n qubits.\n",
    "    The circuit has both classical and\n",
    "    quantum registers.\n",
    "    \n",
    "    Apply H to every qubit\n",
    "    \n",
    "    return circuit\n",
    "    \n",
    "function6(n):\n",
    "\n",
    "    Determnines the structure of the X gates;\n",
    "    number of X gates, order of sequence,\n",
    "    and their vertical positions.\n",
    "    \n",
    "    The key here is to use a binary representation\n",
    "    of the X gates and perform mod 2 operations. These two\n",
    "    ideas are used to permute amplitudes nonrandomly.\n",
    "    \n",
    "    States move in pairs and the final state will\n",
    "    have structure that is similar to the initial state.\n",
    "    Thus, it is possible to define the condition that \n",
    "    must be met to find the combination of X gates\n",
    "    that is needed.\n",
    "    \n",
    "    return [num of X gates, binary representation] -> the entries of the output can be lists or tuples\n",
    "    \n",
    "    \n",
    "\n",
    "function7(circuit,list of CU gates):\n",
    "\n",
    "    n = len(list of CU gates)\n",
    "    x_gates = function6(n)\n",
    "    \n",
    "    while n>0:\n",
    "    \n",
    "        Apply controlled gate i; the first qubit, from top to bottom,\n",
    "        is always the target.\n",
    "        \n",
    "        Apply X gates, x_gates contains the structure of the X gates\n",
    "        \n",
    "        decrement n\n",
    "        \n",
    "    return circuit\n",
    "        \n",
    "After the final circuit is generated, the final state\n",
    "can be measured and the circuit can be drawn.\n",
    "\n",
    "    \n",
    "    \n",
    "\"\"\""
   ]
  }
 ],
 "metadata": {
  "kernelspec": {
   "display_name": "Python 3 (ipykernel)",
   "language": "python",
   "name": "python3"
  },
  "language_info": {
   "codemirror_mode": {
    "name": "ipython",
    "version": 3
   },
   "file_extension": ".py",
   "mimetype": "text/x-python",
   "name": "python",
   "nbconvert_exporter": "python",
   "pygments_lexer": "ipython3",
   "version": "3.8.13"
  },
  "vscode": {
   "interpreter": {
    "hash": "b89499ad7f4b56eb81ce2a370499a3eb58e80519691401e96c43b2cee31bffff"
   }
  },
  "widgets": {
   "application/vnd.jupyter.widget-state+json": {
    "state": {},
    "version_major": 2,
    "version_minor": 0
   }
  }
 },
 "nbformat": 4,
 "nbformat_minor": 4
}
